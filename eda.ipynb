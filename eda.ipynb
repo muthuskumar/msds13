{
 "cells": [
  {
   "cell_type": "code",
   "execution_count": 17,
   "metadata": {},
   "outputs": [],
   "source": [
    "import os\n",
    "import os.path as path\n",
    "\n",
    "import numpy as np\n",
    "import pandas as pd\n",
    "import matplotlib.pyplot as plt\n",
    "import seaborn as sns"
   ]
  },
  {
   "cell_type": "code",
   "execution_count": 10,
   "metadata": {},
   "outputs": [],
   "source": [
    "project_root = os.getcwd()\n",
    "input_dir = 'input'\n",
    "\n",
    "log_csv_file_name = 'bgl_2k.csv'\n",
    "log_csv_file = log_file = path.abspath(path.join(project_root, input_dir, log_csv_file_name))"
   ]
  },
  {
   "cell_type": "code",
   "execution_count": 11,
   "metadata": {},
   "outputs": [
    {
     "data": {
      "text/html": [
       "<div>\n",
       "<style scoped>\n",
       "    .dataframe tbody tr th:only-of-type {\n",
       "        vertical-align: middle;\n",
       "    }\n",
       "\n",
       "    .dataframe tbody tr th {\n",
       "        vertical-align: top;\n",
       "    }\n",
       "\n",
       "    .dataframe thead th {\n",
       "        text-align: right;\n",
       "    }\n",
       "</style>\n",
       "<table border=\"1\" class=\"dataframe\">\n",
       "  <thead>\n",
       "    <tr style=\"text-align: right;\">\n",
       "      <th></th>\n",
       "      <th>Anomaly Type</th>\n",
       "      <th>Timestamp (ms)</th>\n",
       "      <th>Date</th>\n",
       "      <th>Node</th>\n",
       "      <th>Timestamp</th>\n",
       "      <th>Node Repeat</th>\n",
       "      <th>Message Type</th>\n",
       "      <th>Component</th>\n",
       "      <th>Level</th>\n",
       "      <th>Content</th>\n",
       "      <th>Anomaly Label</th>\n",
       "    </tr>\n",
       "  </thead>\n",
       "  <tbody>\n",
       "    <tr>\n",
       "      <th>0</th>\n",
       "      <td>-</td>\n",
       "      <td>1117838570</td>\n",
       "      <td>2005.06.03</td>\n",
       "      <td>R02-M1-N0-C:J12-U11</td>\n",
       "      <td>2005-06-03 15:42:50.675872</td>\n",
       "      <td>R02-M1-N0-C:J12-U11</td>\n",
       "      <td>RAS</td>\n",
       "      <td>KERNEL</td>\n",
       "      <td>INFO</td>\n",
       "      <td>instruction cache parity error corrected</td>\n",
       "      <td>0</td>\n",
       "    </tr>\n",
       "    <tr>\n",
       "      <th>1</th>\n",
       "      <td>-</td>\n",
       "      <td>1117838573</td>\n",
       "      <td>2005.06.03</td>\n",
       "      <td>R02-M1-N0-C:J12-U11</td>\n",
       "      <td>2005-06-03 15:42:53.276129</td>\n",
       "      <td>R02-M1-N0-C:J12-U11</td>\n",
       "      <td>RAS</td>\n",
       "      <td>KERNEL</td>\n",
       "      <td>INFO</td>\n",
       "      <td>instruction cache parity error corrected</td>\n",
       "      <td>0</td>\n",
       "    </tr>\n",
       "    <tr>\n",
       "      <th>2</th>\n",
       "      <td>-</td>\n",
       "      <td>1117838976</td>\n",
       "      <td>2005.06.03</td>\n",
       "      <td>R02-M1-N0-C:J12-U11</td>\n",
       "      <td>2005-06-03 15:49:36.156884</td>\n",
       "      <td>R02-M1-N0-C:J12-U11</td>\n",
       "      <td>RAS</td>\n",
       "      <td>KERNEL</td>\n",
       "      <td>INFO</td>\n",
       "      <td>instruction cache parity error corrected</td>\n",
       "      <td>0</td>\n",
       "    </tr>\n",
       "    <tr>\n",
       "      <th>3</th>\n",
       "      <td>-</td>\n",
       "      <td>1117838978</td>\n",
       "      <td>2005.06.03</td>\n",
       "      <td>R02-M1-N0-C:J12-U11</td>\n",
       "      <td>2005-06-03 15:49:38.026704</td>\n",
       "      <td>R02-M1-N0-C:J12-U11</td>\n",
       "      <td>RAS</td>\n",
       "      <td>KERNEL</td>\n",
       "      <td>INFO</td>\n",
       "      <td>instruction cache parity error corrected</td>\n",
       "      <td>0</td>\n",
       "    </tr>\n",
       "    <tr>\n",
       "      <th>4</th>\n",
       "      <td>-</td>\n",
       "      <td>1117842440</td>\n",
       "      <td>2005.06.03</td>\n",
       "      <td>R23-M0-NE-C:J05-U01</td>\n",
       "      <td>2005-06-03 16:47:20.730545</td>\n",
       "      <td>R23-M0-NE-C:J05-U01</td>\n",
       "      <td>RAS</td>\n",
       "      <td>KERNEL</td>\n",
       "      <td>INFO</td>\n",
       "      <td>63543 double-hummer alignment exceptions</td>\n",
       "      <td>0</td>\n",
       "    </tr>\n",
       "    <tr>\n",
       "      <th>5</th>\n",
       "      <td>-</td>\n",
       "      <td>1117842974</td>\n",
       "      <td>2005.06.03</td>\n",
       "      <td>R24-M0-N1-C:J13-U11</td>\n",
       "      <td>2005-06-03 16:56:14.254137</td>\n",
       "      <td>R24-M0-N1-C:J13-U11</td>\n",
       "      <td>RAS</td>\n",
       "      <td>KERNEL</td>\n",
       "      <td>INFO</td>\n",
       "      <td>162 double-hummer alignment exceptions</td>\n",
       "      <td>0</td>\n",
       "    </tr>\n",
       "    <tr>\n",
       "      <th>6</th>\n",
       "      <td>-</td>\n",
       "      <td>1117843015</td>\n",
       "      <td>2005.06.03</td>\n",
       "      <td>R21-M1-N6-C:J08-U11</td>\n",
       "      <td>2005-06-03 16:56:55.309974</td>\n",
       "      <td>R21-M1-N6-C:J08-U11</td>\n",
       "      <td>RAS</td>\n",
       "      <td>KERNEL</td>\n",
       "      <td>INFO</td>\n",
       "      <td>141 double-hummer alignment exceptions</td>\n",
       "      <td>0</td>\n",
       "    </tr>\n",
       "    <tr>\n",
       "      <th>7</th>\n",
       "      <td>-</td>\n",
       "      <td>1117848119</td>\n",
       "      <td>2005.06.03</td>\n",
       "      <td>R16-M1-N2-C:J17-U01</td>\n",
       "      <td>2005-06-03 18:21:59.871925</td>\n",
       "      <td>R16-M1-N2-C:J17-U01</td>\n",
       "      <td>RAS</td>\n",
       "      <td>KERNEL</td>\n",
       "      <td>INFO</td>\n",
       "      <td>CE sym 2, at 0x0b85eee0, mask 0x05</td>\n",
       "      <td>0</td>\n",
       "    </tr>\n",
       "    <tr>\n",
       "      <th>8</th>\n",
       "      <td>APPREAD</td>\n",
       "      <td>1117869872</td>\n",
       "      <td>2005.06.04</td>\n",
       "      <td>R04-M1-N4-I:J18-U11</td>\n",
       "      <td>2005-06-04 00:24:32.432192</td>\n",
       "      <td>R04-M1-N4-I:J18-U11</td>\n",
       "      <td>RAS</td>\n",
       "      <td>APP</td>\n",
       "      <td>FATAL</td>\n",
       "      <td>ciod: failed to read message prefix on control...</td>\n",
       "      <td>1</td>\n",
       "    </tr>\n",
       "    <tr>\n",
       "      <th>9</th>\n",
       "      <td>APPREAD</td>\n",
       "      <td>1117869876</td>\n",
       "      <td>2005.06.04</td>\n",
       "      <td>R27-M1-N4-I:J18-U01</td>\n",
       "      <td>2005-06-04 00:24:36.222560</td>\n",
       "      <td>R27-M1-N4-I:J18-U01</td>\n",
       "      <td>RAS</td>\n",
       "      <td>APP</td>\n",
       "      <td>FATAL</td>\n",
       "      <td>ciod: failed to read message prefix on control...</td>\n",
       "      <td>1</td>\n",
       "    </tr>\n",
       "    <tr>\n",
       "      <th>10</th>\n",
       "      <td>-</td>\n",
       "      <td>1117942120</td>\n",
       "      <td>2005.06.04</td>\n",
       "      <td>R30-M0-N7-C:J08-U01</td>\n",
       "      <td>2005-06-04 20:28:40.767551</td>\n",
       "      <td>R30-M0-N7-C:J08-U01</td>\n",
       "      <td>RAS</td>\n",
       "      <td>KERNEL</td>\n",
       "      <td>INFO</td>\n",
       "      <td>CE sym 20, at 0x1438f9e0, mask 0x40</td>\n",
       "      <td>0</td>\n",
       "    </tr>\n",
       "    <tr>\n",
       "      <th>11</th>\n",
       "      <td>-</td>\n",
       "      <td>1117955341</td>\n",
       "      <td>2005.06.05</td>\n",
       "      <td>R25-M0-N7-C:J02-U01</td>\n",
       "      <td>2005-06-05 00:09:01.903373</td>\n",
       "      <td>R25-M0-N7-C:J02-U01</td>\n",
       "      <td>RAS</td>\n",
       "      <td>KERNEL</td>\n",
       "      <td>INFO</td>\n",
       "      <td>generating core.2275</td>\n",
       "      <td>0</td>\n",
       "    </tr>\n",
       "    <tr>\n",
       "      <th>12</th>\n",
       "      <td>-</td>\n",
       "      <td>1117955392</td>\n",
       "      <td>2005.06.05</td>\n",
       "      <td>R24-M1-N8-C:J09-U11</td>\n",
       "      <td>2005-06-05 00:09:52.516674</td>\n",
       "      <td>R24-M1-N8-C:J09-U11</td>\n",
       "      <td>RAS</td>\n",
       "      <td>KERNEL</td>\n",
       "      <td>INFO</td>\n",
       "      <td>generating core.862</td>\n",
       "      <td>0</td>\n",
       "    </tr>\n",
       "    <tr>\n",
       "      <th>13</th>\n",
       "      <td>-</td>\n",
       "      <td>1117956980</td>\n",
       "      <td>2005.06.05</td>\n",
       "      <td>R24-M1-NB-C:J15-U11</td>\n",
       "      <td>2005-06-05 00:36:20.945796</td>\n",
       "      <td>R24-M1-NB-C:J15-U11</td>\n",
       "      <td>RAS</td>\n",
       "      <td>KERNEL</td>\n",
       "      <td>INFO</td>\n",
       "      <td>generating core.728</td>\n",
       "      <td>0</td>\n",
       "    </tr>\n",
       "    <tr>\n",
       "      <th>14</th>\n",
       "      <td>-</td>\n",
       "      <td>1117957045</td>\n",
       "      <td>2005.06.05</td>\n",
       "      <td>R20-M1-N8-C:J04-U01</td>\n",
       "      <td>2005-06-05 00:37:25.012681</td>\n",
       "      <td>R20-M1-N8-C:J04-U01</td>\n",
       "      <td>RAS</td>\n",
       "      <td>KERNEL</td>\n",
       "      <td>INFO</td>\n",
       "      <td>generating core.775</td>\n",
       "      <td>0</td>\n",
       "    </tr>\n",
       "    <tr>\n",
       "      <th>15</th>\n",
       "      <td>-</td>\n",
       "      <td>1117959501</td>\n",
       "      <td>2005.06.05</td>\n",
       "      <td>R24-M0-NE-C:J14-U11</td>\n",
       "      <td>2005-06-05 01:18:21.778604</td>\n",
       "      <td>R24-M0-NE-C:J14-U11</td>\n",
       "      <td>RAS</td>\n",
       "      <td>KERNEL</td>\n",
       "      <td>INFO</td>\n",
       "      <td>generating core.3276</td>\n",
       "      <td>0</td>\n",
       "    </tr>\n",
       "    <tr>\n",
       "      <th>16</th>\n",
       "      <td>-</td>\n",
       "      <td>1117959513</td>\n",
       "      <td>2005.06.05</td>\n",
       "      <td>R21-M1-N2-C:J11-U01</td>\n",
       "      <td>2005-06-05 01:18:33.830595</td>\n",
       "      <td>R21-M1-N2-C:J11-U01</td>\n",
       "      <td>RAS</td>\n",
       "      <td>KERNEL</td>\n",
       "      <td>INFO</td>\n",
       "      <td>generating core.1717</td>\n",
       "      <td>0</td>\n",
       "    </tr>\n",
       "    <tr>\n",
       "      <th>17</th>\n",
       "      <td>-</td>\n",
       "      <td>1117959563</td>\n",
       "      <td>2005.06.05</td>\n",
       "      <td>R24-M0-N8-C:J04-U11</td>\n",
       "      <td>2005-06-05 01:19:23.822135</td>\n",
       "      <td>R24-M0-N8-C:J04-U11</td>\n",
       "      <td>RAS</td>\n",
       "      <td>KERNEL</td>\n",
       "      <td>INFO</td>\n",
       "      <td>generating core.3919</td>\n",
       "      <td>0</td>\n",
       "    </tr>\n",
       "    <tr>\n",
       "      <th>18</th>\n",
       "      <td>-</td>\n",
       "      <td>1117973759</td>\n",
       "      <td>2005.06.05</td>\n",
       "      <td>R31-M0-NE-C:J05-U11</td>\n",
       "      <td>2005-06-05 05:15:59.416717</td>\n",
       "      <td>R31-M0-NE-C:J05-U11</td>\n",
       "      <td>RAS</td>\n",
       "      <td>KERNEL</td>\n",
       "      <td>INFO</td>\n",
       "      <td>generating core.2079</td>\n",
       "      <td>0</td>\n",
       "    </tr>\n",
       "    <tr>\n",
       "      <th>19</th>\n",
       "      <td>-</td>\n",
       "      <td>1117973786</td>\n",
       "      <td>2005.06.05</td>\n",
       "      <td>R36-M0-NA-C:J06-U01</td>\n",
       "      <td>2005-06-05 05:16:26.686603</td>\n",
       "      <td>R36-M0-NA-C:J06-U01</td>\n",
       "      <td>RAS</td>\n",
       "      <td>KERNEL</td>\n",
       "      <td>INFO</td>\n",
       "      <td>generating core.1414</td>\n",
       "      <td>0</td>\n",
       "    </tr>\n",
       "  </tbody>\n",
       "</table>\n",
       "</div>"
      ],
      "text/plain": [
       "   Anomaly Type  Timestamp (ms)        Date                 Node  \\\n",
       "0             -      1117838570  2005.06.03  R02-M1-N0-C:J12-U11   \n",
       "1             -      1117838573  2005.06.03  R02-M1-N0-C:J12-U11   \n",
       "2             -      1117838976  2005.06.03  R02-M1-N0-C:J12-U11   \n",
       "3             -      1117838978  2005.06.03  R02-M1-N0-C:J12-U11   \n",
       "4             -      1117842440  2005.06.03  R23-M0-NE-C:J05-U01   \n",
       "5             -      1117842974  2005.06.03  R24-M0-N1-C:J13-U11   \n",
       "6             -      1117843015  2005.06.03  R21-M1-N6-C:J08-U11   \n",
       "7             -      1117848119  2005.06.03  R16-M1-N2-C:J17-U01   \n",
       "8       APPREAD      1117869872  2005.06.04  R04-M1-N4-I:J18-U11   \n",
       "9       APPREAD      1117869876  2005.06.04  R27-M1-N4-I:J18-U01   \n",
       "10            -      1117942120  2005.06.04  R30-M0-N7-C:J08-U01   \n",
       "11            -      1117955341  2005.06.05  R25-M0-N7-C:J02-U01   \n",
       "12            -      1117955392  2005.06.05  R24-M1-N8-C:J09-U11   \n",
       "13            -      1117956980  2005.06.05  R24-M1-NB-C:J15-U11   \n",
       "14            -      1117957045  2005.06.05  R20-M1-N8-C:J04-U01   \n",
       "15            -      1117959501  2005.06.05  R24-M0-NE-C:J14-U11   \n",
       "16            -      1117959513  2005.06.05  R21-M1-N2-C:J11-U01   \n",
       "17            -      1117959563  2005.06.05  R24-M0-N8-C:J04-U11   \n",
       "18            -      1117973759  2005.06.05  R31-M0-NE-C:J05-U11   \n",
       "19            -      1117973786  2005.06.05  R36-M0-NA-C:J06-U01   \n",
       "\n",
       "                    Timestamp          Node Repeat Message Type Component  \\\n",
       "0  2005-06-03 15:42:50.675872  R02-M1-N0-C:J12-U11          RAS    KERNEL   \n",
       "1  2005-06-03 15:42:53.276129  R02-M1-N0-C:J12-U11          RAS    KERNEL   \n",
       "2  2005-06-03 15:49:36.156884  R02-M1-N0-C:J12-U11          RAS    KERNEL   \n",
       "3  2005-06-03 15:49:38.026704  R02-M1-N0-C:J12-U11          RAS    KERNEL   \n",
       "4  2005-06-03 16:47:20.730545  R23-M0-NE-C:J05-U01          RAS    KERNEL   \n",
       "5  2005-06-03 16:56:14.254137  R24-M0-N1-C:J13-U11          RAS    KERNEL   \n",
       "6  2005-06-03 16:56:55.309974  R21-M1-N6-C:J08-U11          RAS    KERNEL   \n",
       "7  2005-06-03 18:21:59.871925  R16-M1-N2-C:J17-U01          RAS    KERNEL   \n",
       "8  2005-06-04 00:24:32.432192  R04-M1-N4-I:J18-U11          RAS       APP   \n",
       "9  2005-06-04 00:24:36.222560  R27-M1-N4-I:J18-U01          RAS       APP   \n",
       "10 2005-06-04 20:28:40.767551  R30-M0-N7-C:J08-U01          RAS    KERNEL   \n",
       "11 2005-06-05 00:09:01.903373  R25-M0-N7-C:J02-U01          RAS    KERNEL   \n",
       "12 2005-06-05 00:09:52.516674  R24-M1-N8-C:J09-U11          RAS    KERNEL   \n",
       "13 2005-06-05 00:36:20.945796  R24-M1-NB-C:J15-U11          RAS    KERNEL   \n",
       "14 2005-06-05 00:37:25.012681  R20-M1-N8-C:J04-U01          RAS    KERNEL   \n",
       "15 2005-06-05 01:18:21.778604  R24-M0-NE-C:J14-U11          RAS    KERNEL   \n",
       "16 2005-06-05 01:18:33.830595  R21-M1-N2-C:J11-U01          RAS    KERNEL   \n",
       "17 2005-06-05 01:19:23.822135  R24-M0-N8-C:J04-U11          RAS    KERNEL   \n",
       "18 2005-06-05 05:15:59.416717  R31-M0-NE-C:J05-U11          RAS    KERNEL   \n",
       "19 2005-06-05 05:16:26.686603  R36-M0-NA-C:J06-U01          RAS    KERNEL   \n",
       "\n",
       "    Level                                            Content  Anomaly Label  \n",
       "0    INFO           instruction cache parity error corrected              0  \n",
       "1    INFO           instruction cache parity error corrected              0  \n",
       "2    INFO           instruction cache parity error corrected              0  \n",
       "3    INFO           instruction cache parity error corrected              0  \n",
       "4    INFO           63543 double-hummer alignment exceptions              0  \n",
       "5    INFO             162 double-hummer alignment exceptions              0  \n",
       "6    INFO             141 double-hummer alignment exceptions              0  \n",
       "7    INFO                 CE sym 2, at 0x0b85eee0, mask 0x05              0  \n",
       "8   FATAL  ciod: failed to read message prefix on control...              1  \n",
       "9   FATAL  ciod: failed to read message prefix on control...              1  \n",
       "10   INFO                CE sym 20, at 0x1438f9e0, mask 0x40              0  \n",
       "11   INFO                               generating core.2275              0  \n",
       "12   INFO                                generating core.862              0  \n",
       "13   INFO                                generating core.728              0  \n",
       "14   INFO                                generating core.775              0  \n",
       "15   INFO                               generating core.3276              0  \n",
       "16   INFO                               generating core.1717              0  \n",
       "17   INFO                               generating core.3919              0  \n",
       "18   INFO                               generating core.2079              0  \n",
       "19   INFO                               generating core.1414              0  "
      ]
     },
     "execution_count": 11,
     "metadata": {},
     "output_type": "execute_result"
    }
   ],
   "source": [
    "original_df = pd.read_csv(log_csv_file, names=['Anomaly Type', 'Timestamp (ms)', 'Date', 'Node', 'Timestamp', 'Node Repeat', 'Message Type', 'Component', 'Level', 'Content'])\n",
    "original_df['Anomaly Label'] = np.where(original_df['Anomaly Type'] == '-', 0, 1)\n",
    "original_df['Timestamp'] = pd.to_datetime(original_df['Timestamp'], format='%Y-%m-%d-%H.%M.%S.%f')\n",
    "\n",
    "original_df.head(n=20)"
   ]
  },
  {
   "cell_type": "code",
   "execution_count": 48,
   "metadata": {},
   "outputs": [
    {
     "name": "stdout",
     "output_type": "stream",
     "text": [
      "['-' 'APPREAD' 'KERNDTLB' 'KERNSTOR' 'APPCHILD' 'KERNRTSP' 'KERNTERM'\n",
      " 'APPSEV' 'KERNMNTF' 'KERNREC' 'APPTO' 'APPRES' 'APPOUT']\n"
     ]
    },
    {
     "data": {
      "image/png": "[encoded data removed]",
      "text/plain": [
       "<Figure size 640x480 with 1 Axes>"
      ]
     },
     "metadata": {},
     "output_type": "display_data"
    }
   ],
   "source": [
    "unique_anomaly_type = original_df['Anomaly Type'].unique()\n",
    "print(unique_anomaly_type)\n",
    "op = sns.countplot(x='Anomaly Type', data=original_df)\n",
    "op.set_xticklabels(labels = unique_anomaly_type, rotation = 70)\n",
    "plt.show()"
   ]
  },
  {
   "cell_type": "code",
   "execution_count": 49,
   "metadata": {},
   "outputs": [
    {
     "name": "stdout",
     "output_type": "stream",
     "text": [
      "['KERNEL' 'APP' 'DISCOVERY' 'HARDWARE' 'MMCS']\n"
     ]
    },
    {
     "data": {
      "image/png": "[encoded data removed]",
      "text/plain": [
       "<Figure size 640x480 with 1 Axes>"
      ]
     },
     "metadata": {},
     "output_type": "display_data"
    }
   ],
   "source": [
    "unique_components = original_df['Component'].unique()\n",
    "print(unique_components)\n",
    "op = sns.countplot(x='Component', data=original_df)\n",
    "op.set_xticklabels(labels = unique_components, rotation = 70)\n",
    "plt.show()"
   ]
  },
  {
   "cell_type": "code",
   "execution_count": 51,
   "metadata": {},
   "outputs": [
    {
     "name": "stdout",
     "output_type": "stream",
     "text": [
      "['INFO' 'FATAL' 'WARNING' 'SEVERE' 'ERROR']\n"
     ]
    },
    {
     "data": {
      "image/png": "[encoded data removed]",
      "text/plain": [
       "<Figure size 640x480 with 1 Axes>"
      ]
     },
     "metadata": {},
     "output_type": "display_data"
    }
   ],
   "source": [
    "unique_levels = original_df['Level'].unique()\n",
    "print(unique_levels)\n",
    "op = sns.countplot(x='Level', data=original_df)\n",
    "op.set_xticklabels(labels=unique_levels, rotation=70)\n",
    "plt.show()"
   ]
  },
  {
   "cell_type": "code",
   "execution_count": 52,
   "metadata": {},
   "outputs": [
    {
     "name": "stdout",
     "output_type": "stream",
     "text": [
      "['RAS' nan]\n"
     ]
    }
   ],
   "source": [
    "unique_message_types = original_df['Message Type'].unique()\n",
    "print(unique_message_types)"
   ]
  },
  {
   "cell_type": "code",
   "execution_count": 55,
   "metadata": {},
   "outputs": [
    {
     "name": "stdout",
     "output_type": "stream",
     "text": [
      "['R02-M1-N0-C:J12-U11' 'R23-M0-NE-C:J05-U01' 'R24-M0-N1-C:J13-U11' ...\n",
      " 'R62-M1-NA-C:J04-U01' 'R37-M1-NC-C:J02-U11' 'R07-M0-N0-I:J18-U11']\n",
      "1778\n"
     ]
    }
   ],
   "source": [
    "unique_nodes = original_df['Node'].unique()\n",
    "print(unique_nodes)\n",
    "print(len(unique_nodes))"
   ]
  },
  {
   "cell_type": "code",
   "execution_count": 68,
   "metadata": {},
   "outputs": [
    {
     "name": "stdout",
     "output_type": "stream",
     "text": [
      "Start Date:  2005-06-03 15:42:50.675872\n",
      "End Date:  2006-01-03 07:13:09.127918\n"
     ]
    }
   ],
   "source": [
    "print('Start Date: ', min(original_df['Timestamp']))\n",
    "print('End Date: ', max(original_df['Timestamp']))"
   ]
  },
  {
   "cell_type": "code",
   "execution_count": 78,
   "metadata": {},
   "outputs": [
    {
     "name": "stdout",
     "output_type": "stream",
     "text": [
      "[0 1]\n"
     ]
    },
    {
     "data": {
      "image/png": "[encoded data removed]",
      "text/plain": [
       "<Figure size 640x480 with 1 Axes>"
      ]
     },
     "metadata": {},
     "output_type": "display_data"
    }
   ],
   "source": [
    "unique_anomaly_labels = original_df['Anomaly Label'].unique()\n",
    "print(unique_anomaly_labels)\n",
    "op = sns.countplot(x='Anomaly Label', data=original_df)\n",
    "op.set_xticklabels(labels=unique_anomaly_labels, rotation=70)\n",
    "plt.show()"
   ]
  },
  {
   "cell_type": "code",
   "execution_count": 117,
   "metadata": {},
   "outputs": [
    {
     "name": "stdout",
     "output_type": "stream",
     "text": [
      "Timestamp\n",
      "2005-12-31    143\n",
      "2006-12-31      0\n",
      "Freq: A-DEC, Name: Anomaly Label, dtype: int64\n"
     ]
    },
    {
     "data": {
      "image/png": "[encoded data removed]",
      "text/plain": [
       "<Figure size 640x480 with 1 Axes>"
      ]
     },
     "metadata": {},
     "output_type": "display_data"
    }
   ],
   "source": [
    "anomaly_over_timestamp = original_df.resample(rule='Y', on='Timestamp')['Anomaly Label'].sum()\n",
    "print(anomaly_over_timestamp)\n",
    "\n",
    "op = sns.barplot(x = anomaly_over_timestamp.index, y = anomaly_over_timestamp.values)\n",
    "op.set_xticklabels(labels=anomaly_over_timestamp.index, rotation=70)\n",
    "plt.show()"
   ]
  },
  {
   "cell_type": "code",
   "execution_count": 116,
   "metadata": {},
   "outputs": [
    {
     "name": "stdout",
     "output_type": "stream",
     "text": [
      "Timestamp\n",
      "2005-06-30    94\n",
      "2005-07-31     3\n",
      "2005-08-31     5\n",
      "2005-09-30    12\n",
      "2005-10-31     5\n",
      "2005-11-30    18\n",
      "2005-12-31     6\n",
      "2006-01-31     0\n",
      "Freq: M, Name: Anomaly Label, dtype: int64\n"
     ]
    },
    {
     "data": {
      "image/png": "[encoded data removed]",
      "text/plain": [
       "<Figure size 640x480 with 1 Axes>"
      ]
     },
     "metadata": {},
     "output_type": "display_data"
    }
   ],
   "source": [
    "anomaly_over_timestamp = original_df.resample(rule='M', on='Timestamp')['Anomaly Label'].sum()\n",
    "print(anomaly_over_timestamp)\n",
    "\n",
    "op = sns.barplot(x = anomaly_over_timestamp.index, y = anomaly_over_timestamp.values)\n",
    "op.set_xticklabels(labels=anomaly_over_timestamp.index, rotation=70)\n",
    "plt.show()"
   ]
  },
  {
   "cell_type": "code",
   "execution_count": 120,
   "metadata": {},
   "outputs": [
    {
     "name": "stdout",
     "output_type": "stream",
     "text": [
      "Timestamp\n",
      "2005-06-03    0\n",
      "2005-06-04    2\n",
      "2005-06-05    0\n",
      "2005-06-06    0\n",
      "2005-06-07    0\n",
      "             ..\n",
      "2005-12-30    0\n",
      "2005-12-31    0\n",
      "2006-01-01    0\n",
      "2006-01-02    0\n",
      "2006-01-03    0\n",
      "Freq: D, Name: Anomaly Label, Length: 215, dtype: int64\n"
     ]
    },
    {
     "data": {
      "image/png": "[encoded data removed]",
      "text/plain": [
       "<Figure size 640x480 with 1 Axes>"
      ]
     },
     "metadata": {},
     "output_type": "display_data"
    }
   ],
   "source": [
    "anomaly_over_timestamp = original_df.resample(rule='D', on='Timestamp')['Anomaly Label'].sum()\n",
    "print(anomaly_over_timestamp)\n",
    "\n",
    "op = sns.barplot(x = anomaly_over_timestamp.index, y = anomaly_over_timestamp.values)\n",
    "op.set(xlabel=None)\n",
    "plt.show()"
   ]
  },
  {
   "cell_type": "code",
   "execution_count": 87,
   "metadata": {},
   "outputs": [
    {
     "name": "stderr",
     "output_type": "stream",
     "text": [
      "/tmp/ipykernel_1869/3544815713.py:2: FutureWarning: Not prepending group keys to the result index of transform-like apply. In the future, the group keys will be included in the index, regardless of whether the applied function returns a like-indexed object.\n",
      "To preserve the previous behavior, use\n",
      "\n",
      "\t>>> .groupby(..., group_keys=False)\n",
      "\n",
      "To adopt the future behavior and silence this warning, use \n",
      "\n",
      "\t>>> .groupby(..., group_keys=True)\n",
      "  var1.apply(pd.DataFrame)\n"
     ]
    },
    {
     "data": {
      "text/html": [
       "<div>\n",
       "<style scoped>\n",
       "    .dataframe tbody tr th:only-of-type {\n",
       "        vertical-align: middle;\n",
       "    }\n",
       "\n",
       "    .dataframe tbody tr th {\n",
       "        vertical-align: top;\n",
       "    }\n",
       "\n",
       "    .dataframe thead th {\n",
       "        text-align: right;\n",
       "    }\n",
       "</style>\n",
       "<table border=\"1\" class=\"dataframe\">\n",
       "  <thead>\n",
       "    <tr style=\"text-align: right;\">\n",
       "      <th></th>\n",
       "      <th>2005-06-30</th>\n",
       "      <th>2005-07-31</th>\n",
       "      <th>2005-08-31</th>\n",
       "      <th>2005-09-30</th>\n",
       "      <th>2005-10-31</th>\n",
       "      <th>2005-11-30</th>\n",
       "      <th>2005-12-31</th>\n",
       "      <th>2006-01-31</th>\n",
       "    </tr>\n",
       "  </thead>\n",
       "  <tbody>\n",
       "    <tr>\n",
       "      <th>0</th>\n",
       "      <td>0.0</td>\n",
       "      <td>NaN</td>\n",
       "      <td>NaN</td>\n",
       "      <td>NaN</td>\n",
       "      <td>NaN</td>\n",
       "      <td>NaN</td>\n",
       "      <td>NaN</td>\n",
       "      <td>NaN</td>\n",
       "    </tr>\n",
       "    <tr>\n",
       "      <th>1</th>\n",
       "      <td>0.0</td>\n",
       "      <td>NaN</td>\n",
       "      <td>NaN</td>\n",
       "      <td>NaN</td>\n",
       "      <td>NaN</td>\n",
       "      <td>NaN</td>\n",
       "      <td>NaN</td>\n",
       "      <td>NaN</td>\n",
       "    </tr>\n",
       "    <tr>\n",
       "      <th>2</th>\n",
       "      <td>0.0</td>\n",
       "      <td>NaN</td>\n",
       "      <td>NaN</td>\n",
       "      <td>NaN</td>\n",
       "      <td>NaN</td>\n",
       "      <td>NaN</td>\n",
       "      <td>NaN</td>\n",
       "      <td>NaN</td>\n",
       "    </tr>\n",
       "    <tr>\n",
       "      <th>3</th>\n",
       "      <td>0.0</td>\n",
       "      <td>NaN</td>\n",
       "      <td>NaN</td>\n",
       "      <td>NaN</td>\n",
       "      <td>NaN</td>\n",
       "      <td>NaN</td>\n",
       "      <td>NaN</td>\n",
       "      <td>NaN</td>\n",
       "    </tr>\n",
       "    <tr>\n",
       "      <th>4</th>\n",
       "      <td>0.0</td>\n",
       "      <td>NaN</td>\n",
       "      <td>NaN</td>\n",
       "      <td>NaN</td>\n",
       "      <td>NaN</td>\n",
       "      <td>NaN</td>\n",
       "      <td>NaN</td>\n",
       "      <td>NaN</td>\n",
       "    </tr>\n",
       "    <tr>\n",
       "      <th>...</th>\n",
       "      <td>...</td>\n",
       "      <td>...</td>\n",
       "      <td>...</td>\n",
       "      <td>...</td>\n",
       "      <td>...</td>\n",
       "      <td>...</td>\n",
       "      <td>...</td>\n",
       "      <td>...</td>\n",
       "    </tr>\n",
       "    <tr>\n",
       "      <th>1995</th>\n",
       "      <td>NaN</td>\n",
       "      <td>NaN</td>\n",
       "      <td>NaN</td>\n",
       "      <td>NaN</td>\n",
       "      <td>NaN</td>\n",
       "      <td>NaN</td>\n",
       "      <td>0.0</td>\n",
       "      <td>NaN</td>\n",
       "    </tr>\n",
       "    <tr>\n",
       "      <th>1996</th>\n",
       "      <td>NaN</td>\n",
       "      <td>NaN</td>\n",
       "      <td>NaN</td>\n",
       "      <td>NaN</td>\n",
       "      <td>NaN</td>\n",
       "      <td>NaN</td>\n",
       "      <td>0.0</td>\n",
       "      <td>NaN</td>\n",
       "    </tr>\n",
       "    <tr>\n",
       "      <th>1997</th>\n",
       "      <td>NaN</td>\n",
       "      <td>NaN</td>\n",
       "      <td>NaN</td>\n",
       "      <td>NaN</td>\n",
       "      <td>NaN</td>\n",
       "      <td>NaN</td>\n",
       "      <td>0.0</td>\n",
       "      <td>NaN</td>\n",
       "    </tr>\n",
       "    <tr>\n",
       "      <th>1998</th>\n",
       "      <td>NaN</td>\n",
       "      <td>NaN</td>\n",
       "      <td>NaN</td>\n",
       "      <td>NaN</td>\n",
       "      <td>NaN</td>\n",
       "      <td>NaN</td>\n",
       "      <td>0.0</td>\n",
       "      <td>NaN</td>\n",
       "    </tr>\n",
       "    <tr>\n",
       "      <th>1999</th>\n",
       "      <td>NaN</td>\n",
       "      <td>NaN</td>\n",
       "      <td>NaN</td>\n",
       "      <td>NaN</td>\n",
       "      <td>NaN</td>\n",
       "      <td>NaN</td>\n",
       "      <td>NaN</td>\n",
       "      <td>0.0</td>\n",
       "    </tr>\n",
       "  </tbody>\n",
       "</table>\n",
       "<p>2000 rows × 8 columns</p>\n",
       "</div>"
      ],
      "text/plain": [
       "      2005-06-30  2005-07-31  2005-08-31  2005-09-30  2005-10-31  2005-11-30  \\\n",
       "0            0.0         NaN         NaN         NaN         NaN         NaN   \n",
       "1            0.0         NaN         NaN         NaN         NaN         NaN   \n",
       "2            0.0         NaN         NaN         NaN         NaN         NaN   \n",
       "3            0.0         NaN         NaN         NaN         NaN         NaN   \n",
       "4            0.0         NaN         NaN         NaN         NaN         NaN   \n",
       "...          ...         ...         ...         ...         ...         ...   \n",
       "1995         NaN         NaN         NaN         NaN         NaN         NaN   \n",
       "1996         NaN         NaN         NaN         NaN         NaN         NaN   \n",
       "1997         NaN         NaN         NaN         NaN         NaN         NaN   \n",
       "1998         NaN         NaN         NaN         NaN         NaN         NaN   \n",
       "1999         NaN         NaN         NaN         NaN         NaN         NaN   \n",
       "\n",
       "      2005-12-31  2006-01-31  \n",
       "0            NaN         NaN  \n",
       "1            NaN         NaN  \n",
       "2            NaN         NaN  \n",
       "3            NaN         NaN  \n",
       "4            NaN         NaN  \n",
       "...          ...         ...  \n",
       "1995         0.0         NaN  \n",
       "1996         0.0         NaN  \n",
       "1997         0.0         NaN  \n",
       "1998         0.0         NaN  \n",
       "1999         NaN         0.0  \n",
       "\n",
       "[2000 rows x 8 columns]"
      ]
     },
     "execution_count": 87,
     "metadata": {},
     "output_type": "execute_result"
    }
   ],
   "source": [
    "var1 = original_df.resample(rule='M', on='Timestamp')['Anomaly Label']\n"
   ]
  }
 ],
 "metadata": {
  "kernelspec": {
   "display_name": "Python 3.9.15 ('ms-ds13')",
   "language": "python",
   "name": "python3"
  },
  "language_info": {
   "codemirror_mode": {
    "name": "ipython",
    "version": 3
   },
   "file_extension": ".py",
   "mimetype": "text/x-python",
   "name": "python",
   "nbconvert_exporter": "python",
   "pygments_lexer": "ipython3",
   "version": "3.9.15"
  },
  "orig_nbformat": 4,
  "vscode": {
   "interpreter": {
    "hash": "b7d5d95ec871826f4c96f39204edc263930b1065d3d6b0d23c0891d0cf865f41"
   }
  }
 },
 "nbformat": 4,
 "nbformat_minor": 2
}
