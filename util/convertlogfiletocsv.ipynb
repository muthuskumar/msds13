{
 "cells": [
  {
   "cell_type": "code",
   "execution_count": 1,
   "metadata": {},
   "outputs": [],
   "source": [
    "import os\n",
    "import os.path as path\n",
    "import glob\n",
    "\n",
    "from csv import (writer, DictWriter)\n",
    "\n",
    "import pandas as pd\n",
    "import math\n",
    "import numpy as np\n",
    "\n",
    "from drain3 import TemplateMiner\n",
    "from drain3.template_miner_config import TemplateMinerConfig\n",
    "\n",
    "from spellpy import spell\n",
    "from fastai.text.all import Numericalize\n",
    "\n",
    "import fasttext\n",
    "\n",
    "from sklearn.base import BaseEstimator, TransformerMixin\n",
    "from sklearn.model_selection import RepeatedStratifiedKFold\n",
    "from sklearn.pipeline import Pipeline\n",
    "from sklearn.naive_bayes import GaussianNB\n",
    "\n",
    "from sklearn.metrics import (confusion_matrix, precision_score, recall_score, f1_score)"
   ]
  },
  {
   "cell_type": "code",
   "execution_count": 6,
   "metadata": {},
   "outputs": [],
   "source": [
    "project_root = os.getcwd()\n",
    "\n",
    "data_dir = 'data'\n",
    "log_file_name = 'BGL.log'\n",
    "\n",
    "config_dir = 'config'\n",
    "\n",
    "input_dir = 'input'\n",
    "spell_output_dir = 'output'\n",
    "\n",
    "spell_input_dir = 'input/spell'\n",
    "spell_output_dir = 'output/spell'\n",
    "\n",
    "drain_input_dir = 'input/drain'\n",
    "drain_output_dir = 'output/drain'\n",
    "\n",
    "WINDOW_SIZE = 5"
   ]
  },
  {
   "cell_type": "code",
   "execution_count": 11,
   "metadata": {},
   "outputs": [],
   "source": [
    "log_csv_file_name = 'BGL.csv'\n",
    "log_csv_file = log_file = path.abspath(path.join(project_root, '../', input_dir, log_csv_file_name))\n",
    "\n",
    "if os.path.exists(log_csv_file):\n",
    "    os.remove(log_csv_file)\n",
    "\n",
    "log_file = path.abspath(path.join(project_root, '../', data_dir, log_file_name))\n",
    "logs = open(log_file, 'r')\n",
    "\n",
    "with open(log_csv_file, 'a') as log_csv_file_obj:\n",
    "    log_csv_writer_obj = writer(log_csv_file_obj)\n",
    "    for line in logs:\n",
    "        split_data = line.rstrip('\\n').split(' ')\n",
    "        if len(split_data) > 9:\n",
    "            split_data[9] = ' '.join(split_data[9:])\n",
    "            log_csv_writer_obj.writerow(split_data[0:10])\n",
    "    log_csv_file_obj.close"
   ]
  }
 ],
 "metadata": {
  "kernelspec": {
   "display_name": "Python 3.9.15 ('ms-ds13')",
   "language": "python",
   "name": "python3"
  },
  "language_info": {
   "codemirror_mode": {
    "name": "ipython",
    "version": 3
   },
   "file_extension": ".py",
   "mimetype": "text/x-python",
   "name": "python",
   "nbconvert_exporter": "python",
   "pygments_lexer": "ipython3",
   "version": "3.9.15"
  },
  "orig_nbformat": 4,
  "vscode": {
   "interpreter": {
    "hash": "b7d5d95ec871826f4c96f39204edc263930b1065d3d6b0d23c0891d0cf865f41"
   }
  }
 },
 "nbformat": 4,
 "nbformat_minor": 2
}
