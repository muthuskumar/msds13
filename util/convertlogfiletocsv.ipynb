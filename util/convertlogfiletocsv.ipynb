{
 "cells": [
  {
   "cell_type": "code",
   "execution_count": 1,
   "metadata": {},
   "outputs": [],
   "source": [
    "import os\n",
    "import os.path as path\n",
    "import boto3\n",
    "import botocore\n",
    "\n",
    "from csv import writer\n",
    "\n",
    "import pandas as pd"
   ]
  },
  {
   "cell_type": "code",
   "execution_count": 6,
   "metadata": {},
   "outputs": [],
   "source": [
    "project_root = os.getcwd()\n",
    "\n",
    "data_dir = 'data'\n",
    "log_file_name = 'BGL.log'\n",
    "\n",
    "input_dir = 'input'\n",
    "log_csv_file_name = 'BGL.csv'\n",
    "\n",
    "bucket_name = 'sagemaker-studio-326787221562-jycpwz9gs3f'"
   ]
  },
  {
   "cell_type": "code",
   "execution_count": 12,
   "metadata": {},
   "outputs": [],
   "source": [
    "log_csv_file = log_file = path.abspath(path.join(project_root, '../', input_dir, log_csv_file_name))\n",
    "if os.path.exists(log_csv_file):\n",
    "    os.remove(log_csv_file)\n",
    "\n",
    "log_file = path.abspath(path.join(project_root, '../', data_dir, log_file_name))\n",
    "if os.path.exists(log_file):\n",
    "    os.remove(log_file)\n",
    "\n",
    "s3 = boto3.resource('s3')\n",
    "try:\n",
    "    s3.Bucket(bucket_name).download_file(log_file_name, log_file)\n",
    "except botocore.exceptions.ClientError as e:\n",
    "    if e.response['Error']['Code'] == \"404\":\n",
    "        print(\"The object does not exist.\")\n",
    "    else:\n",
    "        raise"
   ]
  },
  {
   "cell_type": "code",
   "execution_count": null,
   "metadata": {},
   "outputs": [],
   "source": [
    "logs = open(log_file, 'r')\n",
    "\n",
    "original_dataset_len = 0\n",
    "with open(log_csv_file, 'a') as log_csv_file_obj:\n",
    "    log_csv_writer_obj = writer(log_csv_file_obj)\n",
    "    log_csv_writer_obj.writerow(['Anomaly Type', 'Timestamp (ms)', 'Date', 'Node', 'Timestamp', 'Node Repeat', 'Message Type', 'Component', 'Level', 'Content'])\n",
    "    for line in logs:\n",
    "        original_dataset_len += 1\n",
    "        split_data = line.rstrip('\\n').split(' ')\n",
    "        if len(split_data) > 9:\n",
    "            split_data[9] = ' '.join(split_data[9:])\n",
    "            log_csv_writer_obj.writerow(split_data[0:10])\n",
    "    log_csv_file_obj.close"
   ]
  },
  {
   "cell_type": "code",
   "execution_count": null,
   "metadata": {},
   "outputs": [],
   "source": [
    "df = pd.read_csv(log_csv_file)\n",
    "processed_dataset_len = len(df)\n",
    "\n",
    "print('Number of rows without content (rejected) - ', original_dataset_len - processed_dataset_len)"
   ]
  },
  {
   "cell_type": "code",
   "execution_count": null,
   "metadata": {},
   "outputs": [],
   "source": [
    "client = boto3.client(\"s3\")\n",
    "client.upload_file(log_csv_file, bucket_name, log_csv_file_name)"
   ]
  }
 ],
 "metadata": {
  "kernelspec": {
   "display_name": "conda_python3",
   "language": "python",
   "name": "conda_python3"
  },
  "language_info": {
   "codemirror_mode": {
    "name": "ipython",
    "version": 3
   },
   "file_extension": ".py",
   "mimetype": "text/x-python",
   "name": "python",
   "nbconvert_exporter": "python",
   "pygments_lexer": "ipython3",
   "version": "3.8.12"
  },
  "vscode": {
   "interpreter": {
    "hash": "b7d5d95ec871826f4c96f39204edc263930b1065d3d6b0d23c0891d0cf865f41"
   }
  }
 },
 "nbformat": 4,
 "nbformat_minor": 4
}
